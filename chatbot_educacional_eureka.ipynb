{
  "nbformat": 4,
  "nbformat_minor": 0,
  "metadata": {
    "colab": {
      "provenance": [],
      "authorship_tag": "ABX9TyNZUCNTROszkqbRqulLG2K+",
      "include_colab_link": true
    },
    "kernelspec": {
      "name": "python3",
      "display_name": "Python 3"
    },
    "language_info": {
      "name": "python"
    }
  },
  "cells": [
    {
      "cell_type": "markdown",
      "metadata": {
        "id": "view-in-github",
        "colab_type": "text"
      },
      "source": [
        "<a href=\"https://colab.research.google.com/github/JellOliveira/Chatbot-Educacional-Eureka/blob/main/chatbot_educacional_eureka.ipynb\" target=\"_parent\"><img src=\"https://colab.research.google.com/assets/colab-badge.svg\" alt=\"Open In Colab\"/></a>"
      ]
    },
    {
      "cell_type": "markdown",
      "source": [
        "**CONFIRGURAÇÕES INICIAS:**"
      ],
      "metadata": {
        "id": "9VfJyEeRITDZ"
      }
    },
    {
      "cell_type": "code",
      "source": [
        "!pip install -q -U google-generativeai"
      ],
      "metadata": {
        "id": "nbdwqjTGIXdE"
      },
      "execution_count": null,
      "outputs": []
    },
    {
      "cell_type": "code",
      "source": [
        "#BIBLIOTECA USADA\n",
        "import os\n",
        "import google.generativeai as genai\n",
        "from time import sleep\n",
        "from tqdm import tqdm\n",
        "from termcolor import colored\n",
        "\n",
        "# CHAVE API KEY\n",
        "os.environ['API_KEY'] = 'DIGITE SUA CHAVE KEY AQUI'\n",
        "genai.configure(api_key=os.environ['API_KEY'])\n",
        "model = genai.GenerativeModel('gemini-pro')"
      ],
      "metadata": {
        "id": "bLgqiNBUIg7I"
      },
      "execution_count": null,
      "outputs": []
    },
    {
      "cell_type": "markdown",
      "source": [
        "**CRIAÇÃO DO CHATBOT:**"
      ],
      "metadata": {
        "id": "t6bnnHKEIwsQ"
      }
    },
    {
      "cell_type": "code",
      "source": [
        "# Funções do chatbot\n",
        "\n",
        "def criar_plano_de_estudo(disciplinas, horas_estudo):\n",
        "    # O chatbot usa o Gemini API para criar um plano de estudo personalizado\n",
        "    for _ in tqdm(range(10), desc=\"Criando plano...\", ncols=80):\n",
        "        sleep(0.2)\n",
        "\n",
        "    prompt = f\"Criar um plano de estudo detalhado para as disciplinas: {disciplinas}. O plano deve considerar {horas_estudo} horas de estudo por semana.\"\n",
        "    response = model.generate_content(prompt)  # Certifique-se de que 'model' esteja definido\n",
        "    return response.text\n",
        "\n",
        "def responder_duvidas_tarefas(duvida):\n",
        "    # O chatbot usa o Gemini API para fornecer uma resposta\n",
        "    prompt = f\"Responder a seguinte dúvida sobre a tarefa: {duvida}\"\n",
        "    response = model.generate_content(prompt)\n",
        "    return response.text\n",
        "\n",
        "def fornecer_feedback_trabalhos(trabalho):\n",
        "    # O chatbot usa o Gemini API para analisar e fornecer feedback\n",
        "    prompt = f\"Fornecer feedback sobre o seguinte trabalho escrito: {trabalho}\"\n",
        "    response = model.generate_content(prompt)\n",
        "    return response.text\n",
        "\n",
        "def criar_exercicio(texto_base):\n",
        "    # O chatbot usa o Gemini API para criar perguntas de exercício baseado no texto fornecido\n",
        "    prompt = f\"Criar perguntas de exercício baseado no seguinte texto: {texto_base}\"\n",
        "    response = model.generate_content(prompt)\n",
        "    perguntas = response.text\n",
        "\n",
        "    # Armazenar as respostas para uso posterior\n",
        "    prompt_respostas = f\"Criar as respostas para o exercício baseado no seguinte texto: {texto_base}\"\n",
        "    response_respostas = model.generate_content(prompt_respostas)\n",
        "    respostas = response_respostas.text\n",
        "\n",
        "    return perguntas, respostas\n"
      ],
      "metadata": {
        "id": "G61NhZjpLTnF"
      },
      "execution_count": null,
      "outputs": []
    },
    {
      "cell_type": "markdown",
      "source": [
        "**SIMULADOR PARA INTERAÇÃO DO CHATBOT**"
      ],
      "metadata": {
        "id": "BmHvrKr_JAGS"
      }
    },
    {
      "cell_type": "code",
      "source": [
        "from termcolor import colored\n",
        "\n",
        "while True:\n",
        "    print(colored(\"\\nBem-vindo ao Chatbot Educacional!\", 'blue', attrs=['bold']))\n",
        "    print(\"Escolha uma das opções abaixo:\")\n",
        "    print(\"1. Plano de Estudo\")\n",
        "    print(\"2. Dúvida sobre Tarefa\")\n",
        "    print(\"3. Feedback sobre Trabalho\")\n",
        "    print(\"4. Criar Exercício\")\n",
        "    print(\"5. Sair\")\n",
        "\n",
        "    escolha = input(colored(\"Digite o número da opção desejada: \", 'green'))\n",
        "\n",
        "    if escolha == \"1\":\n",
        "        print(\"\\n\" + \"*\" * 20 + \" Plano de Estudo \" + \"*\" * 20 + \"\\n\")\n",
        "        disciplinas = input(colored(\"Quais disciplinas você gostaria de incluir? \", 'yellow'))\n",
        "        horas_estudo = input(colored(\"Quantas horas por semana você pode dedicar ao estudo? \", 'yellow'))\n",
        "        print(colored(\"\\nProcessando...\", 'magenta'))\n",
        "        print(criar_plano_de_estudo(disciplinas, horas_estudo))\n",
        "        print(\"Plano de estudo criado.\")\n",
        "\n",
        "    elif escolha == \"2\":\n",
        "        duvida = input(\"Qual é a sua dúvida sobre a tarefa? \")\n",
        "        print(responder_duvidas_tarefas(duvida))\n",
        "        print(\"Resposta para sua dúvida.\")\n",
        "\n",
        "    elif escolha == \"3\":\n",
        "        trabalho = input(\"Por favor, cole o seu trabalho escrito aqui:\\n \")\n",
        "        print(fornecer_feedback_trabalhos(trabalho))\n",
        "        print(\"Feedback para seu trabalho.\")\n",
        "\n",
        "    elif escolha == \"4\":\n",
        "        texto_base = input(\"Por favor, insira o texto base para o exercício:\\n \")\n",
        "        perguntas, respostas = criar_exercicio(texto_base)\n",
        "        print(\"Perguntas do exercício:\\n\", perguntas)\n",
        "        while True:\n",
        "            mostrar_resposta = input(\"Deseja ver as respostas agora? (sim/não): \")\n",
        "            if mostrar_resposta.lower() == 'sim':\n",
        "                print(\"Respostas do exercício:\\n\", respostas)\n",
        "                break\n",
        "            elif mostrar_resposta.lower() == 'não':\n",
        "                print(\"Tudo bem, você pode visualizar as respostas quando estiver pronto.\")\n",
        "                break\n",
        "            else:\n",
        "                print(\"Por favor, responda com 'sim' ou 'não'.\")\n",
        "        continue\n",
        "\n",
        "    elif escolha == \"5\":\n",
        "        print(\"Saindo do Chatbot Educacional. Até a próxima!\")\n",
        "        break\n",
        "\n",
        "    else:\n",
        "        print(colored(\"Opção inválida. Tente novamente.\", 'red'))"
      ],
      "metadata": {
        "id": "X9PZ45n8MRV9"
      },
      "execution_count": null,
      "outputs": []
    }
  ]
}